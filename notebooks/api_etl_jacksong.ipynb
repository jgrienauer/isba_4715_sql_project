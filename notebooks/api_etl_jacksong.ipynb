{
  "cells": [
    {
      "cell_type": "code",
      "execution_count": 2,
      "metadata": {
        "colab": {
          "base_uri": "https://localhost:8080/"
        },
        "id": "tWbgmHtKikqX",
        "outputId": "58b43ef8-79f0-49b6-e2c5-18ecf9c5351b"
      },
      "outputs": [
        {
          "name": "stdout",
          "output_type": "stream",
          "text": [
            "Requirement already satisfied: pandas in /usr/local/lib/python3.10/dist-packages (2.0.3)\n",
            "Requirement already satisfied: sqlalchemy in /usr/local/lib/python3.10/dist-packages (2.0.29)\n",
            "Collecting mysqlclient\n",
            "  Downloading mysqlclient-2.2.4.tar.gz (90 kB)\n",
            "\u001b[2K     \u001b[90m━━━━━━━━━━━━━━━━━━━━━━━━━━━━━━━━━━━━━━━━\u001b[0m \u001b[32m90.4/90.4 kB\u001b[0m \u001b[31m1.3 MB/s\u001b[0m eta \u001b[36m0:00:00\u001b[0m\n",
            "\u001b[?25h  Installing build dependencies ... \u001b[?25l\u001b[?25hdone\n",
            "  Getting requirements to build wheel ... \u001b[?25l\u001b[?25hdone\n",
            "  Installing backend dependencies ... \u001b[?25l\u001b[?25hdone\n",
            "  Preparing metadata (pyproject.toml) ... \u001b[?25l\u001b[?25hdone\n",
            "Requirement already satisfied: python-dateutil>=2.8.2 in /usr/local/lib/python3.10/dist-packages (from pandas) (2.8.2)\n",
            "Requirement already satisfied: pytz>=2020.1 in /usr/local/lib/python3.10/dist-packages (from pandas) (2023.4)\n",
            "Requirement already satisfied: tzdata>=2022.1 in /usr/local/lib/python3.10/dist-packages (from pandas) (2024.1)\n",
            "Requirement already satisfied: numpy>=1.21.0 in /usr/local/lib/python3.10/dist-packages (from pandas) (1.25.2)\n",
            "Requirement already satisfied: typing-extensions>=4.6.0 in /usr/local/lib/python3.10/dist-packages (from sqlalchemy) (4.11.0)\n",
            "Requirement already satisfied: greenlet!=0.4.17 in /usr/local/lib/python3.10/dist-packages (from sqlalchemy) (3.0.3)\n",
            "Requirement already satisfied: six>=1.5 in /usr/local/lib/python3.10/dist-packages (from python-dateutil>=2.8.2->pandas) (1.16.0)\n",
            "Building wheels for collected packages: mysqlclient\n",
            "  Building wheel for mysqlclient (pyproject.toml) ... \u001b[?25l\u001b[?25hdone\n",
            "  Created wheel for mysqlclient: filename=mysqlclient-2.2.4-cp310-cp310-linux_x86_64.whl size=124732 sha256=f7f21d6d13ed0b745c08d62390b4118dfad5b13b1bc98ad4e7a0fc55ccb38351\n",
            "  Stored in directory: /root/.cache/pip/wheels/ac/96/ac/2a4d8cb58a4d95de1dffc3f8b0ea42e0e5b63ab97640edbda3\n",
            "Successfully built mysqlclient\n",
            "Installing collected packages: mysqlclient\n",
            "Successfully installed mysqlclient-2.2.4\n"
          ]
        }
      ],
      "source": [
        "!pip install pandas sqlalchemy mysqlclient"
      ]
    },
    {
      "cell_type": "code",
      "execution_count": 3,
      "metadata": {
        "id": "2fjqFn8zXJRj"
      },
      "outputs": [],
      "source": [
        "import requests\n",
        "\n",
        "from bs4 import BeautifulSoup\n",
        "\n",
        "import pandas as pd\n",
        "\n",
        "import json\n",
        "\n",
        "import time\n",
        "\n",
        "from sqlalchemy import create_engine\n"
      ]
    },
    {
      "cell_type": "code",
      "execution_count": 4,
      "metadata": {
        "id": "Jh7alel_Trye"
      },
      "outputs": [],
      "source": [
        "#api key\n",
        "api_key = 'SnItB5oRipaJKXkaqLk9W1Mci3JqJXtcaC9y2y79'"
      ]
    },
    {
      "cell_type": "code",
      "execution_count": 5,
      "metadata": {
        "colab": {
          "base_uri": "https://localhost:8080/"
        },
        "id": "rS-9hqSkWMs1",
        "outputId": "6b76f4a5-5cc7-4c8f-fc23-cc17475b6dc3"
      },
      "outputs": [
        {
          "name": "stdout",
          "output_type": "stream",
          "text": [
            "   Year   AB  RBI    OBP    OPS    AVG  Runs  Stolen\n",
            "0  2024  106    5  0.295  0.531  189.0    13       8\n",
            "1  2023  565   76  0.362  0.868  285.0   116      54\n",
            "2  2022  104   14  0.330  0.830  260.0    13       2\n"
          ]
        }
      ],
      "source": [
        "# Define the API endpoint URL and headers\n",
        "url = \"https://api.sportradar.com/mlb/trial/v7/en/players/86b68e79-a041-4fe2-95ea-1e8e0c30e382/profile.json?api_key=SnItB5oRipaJKXkaqLk9W1Mci3JqJXtcaC9y2y79\"\n",
        "headers = {\"accept\": \"application/json\"}\n",
        "\n",
        "# Send a GET request to the API endpoint\n",
        "response = requests.get(url, headers=headers)\n",
        "\n",
        "# Check if the response is successful (status code 200)\n",
        "if response.status_code == 200:\n",
        "    # Parse the JSON response\n",
        "    data = json.loads(response.text)['player']['seasons']\n",
        "\n",
        "    hitting_statistics = []\n",
        "    for season in data:\n",
        "        if season[\"type\"] == \"REG\":  # Ensure it's regular season data\n",
        "            season_id = season['id']\n",
        "            season_year = season['year']\n",
        "            season_totals = season['totals']\n",
        "            if \"statistics\" in season_totals:\n",
        "                hitting_stats = season_totals[\"statistics\"].get(\"hitting\", {})\n",
        "                hitting_statistics.append({\n",
        "                    \"Season ID\": season_id,\n",
        "                    \"Season Year\": season_year,\n",
        "                    \"Hitting Statistics\": hitting_stats\n",
        "                })\n",
        "\n",
        "    # Calculate averages per season\n",
        "    ab_avg = []\n",
        "    rbi_avg = []\n",
        "    obp_avg = []\n",
        "    ops_avg = []\n",
        "    avg_avg = []\n",
        "    runs_avg = []\n",
        "    stolen_avg = []\n",
        "\n",
        "    for season in hitting_statistics:\n",
        "        hitting_stats = season[\"Hitting Statistics\"].get(\"overall\", {})\n",
        "        ab_avg.append(hitting_stats.get(\"ab\", 0))\n",
        "        rbi_avg.append(hitting_stats.get(\"rbi\", 0))\n",
        "        obp_avg.append(hitting_stats.get(\"obp\", 0))\n",
        "        ops_avg.append(hitting_stats.get(\"ops\", 0))\n",
        "        avg_avg.append(float(hitting_stats.get(\"avg\", \"0\").replace(\".\", \"\")))\n",
        "        runs_avg.append(hitting_stats[\"runs\"].get(\"total\", 0))\n",
        "        stolen_avg.append(hitting_stats[\"steal\"].get(\"stolen\", 0))\n",
        "\n",
        "    # Create DataFrame with averages\n",
        "    df = pd.DataFrame({\n",
        "        \"Year\": [season[\"Season Year\"] for season in hitting_statistics],\n",
        "        \"AB\": ab_avg,\n",
        "        \"RBI\": rbi_avg,\n",
        "        \"OBP\": obp_avg,\n",
        "        \"OPS\": ops_avg,\n",
        "        \"AVG\": avg_avg,\n",
        "        \"Runs\": runs_avg,\n",
        "        \"Stolen\": stolen_avg\n",
        "    })\n",
        "\n",
        "    # Display DataFrame\n",
        "    print(df)\n",
        "else:\n",
        "    print(f\"Failed to retrieve data. Status code: {response.status_code}\")\n",
        "\n"
      ]
    },
    {
      "cell_type": "code",
      "execution_count": 6,
      "metadata": {
        "colab": {
          "base_uri": "https://localhost:8080/",
          "height": 232
        },
        "id": "klH26aAVahW5",
        "outputId": "2b6e84d5-35ab-4cbe-ac84-84d25a96c501"
      },
      "outputs": [
        {
          "data": {
            "application/vnd.google.colaboratory.intrinsic+json": {
              "type": "string"
            },
            "text/plain": [
              "\"will_smith = '317b24ac-6a9b-4735-a4c5-64d879cd6bf7'\\n\\nkeibert_ruiz = '92defc55-fd9c-4069-b0a1-8cef9326753a'\\n\\nsean_murphy = '312edbf0-0528-4e69-a3cb-1b0c26275965'\\n\\nwillson_contreras = '9d93f121-f032-407d-bb30-ad3593641db9'\\n\\njt_realmuto = 'f2a70df3-0bff-48e3-92ae-970c2a103fcf'\\n\\nbryce_harper = 'f3caeac6-343a-4a01-b5a3-85c5485c57cb'\\n\\nmatt_olson = '82a3e6b8-71a8-40c7-b08c-caed8357bbd8'\\n\\njake_cronenworth = 'a3152805-3787-44a0-a8a9-b3ef604ac40d'\\n\\nkris_bryant = 'e1633ff9-8c46-4698-9bea-3eecd478fa94'\\n\\nfreddie_freeman = 'ea1a2111-44cc-4996-babb-9439465e6760'\\n\\nxander_bogaerts = '272abdba-ae99-4137-a6dd-5615f234adfc'\\n\\njose_altuve = '1616381c-d6ac-40b1-8c3f-c70d51bda098'\\n\\nandres_gimenez = '0d84b0e6-869f-4b15-8eea-0d8444c49906'\\n\\nmarcus_semien = 'c2d72221-932c-4155-9121-eaa87cfed176'\\n\\nozzie_albies = '35c471e8-d43a-46c7-ac59-1cbee21222f6'\\n\\nrefael_devers = 'fe966998-15e1-4022-89d5-6b4750516176'\\n\\naustin_riley = '4ee9e14f-2436-4ca4-a9c2-6557d8d86769'\\n\\nkebryan_hayes = 'ec6f52a3-f3e9-40f0-acfe-1dfba879d18a'\\n\\nnolan_arenado = 'aec77ff1-c238-449c-9af6-ed76ff9dd702' \\n\\njose_ramirez = '17e633e5-e7a5-445c-8206-4770254ea2fd'\\n\\nmookie_betts = '084d2514-9ffb-414e-ae16-3bc690aaad51'\\n\\nwander_franco = '7057e7fa-6d96-451e-9546-2e43d5e116d6'\\n\\nbobby_witt = '0f20f69e-28c9-4fb4-8b1e-cde154780682'\\n\\ntrea_turner = '67dc86a1-cc03-41ae-ba7d-e5b8434c83e8'\\n\\ncorey_seager = 'ca159e78-05a9-410a-be7b-3ebad5496a88'\\n\\nfernando_tatis = 'bd22364f-1ff4-4ddc-8315-0a4c95cff960'\\n\\njackson_chourio = '87128c5c-da3c-4fe6-9f04-83d6f8dc1302'\\n\\nronald_acuna = '860100f5-6b7a-40da-ace9-fc6805ed8744'\\n\\nbryan_reynolds = 'bf611376-2b1d-4d5f-9805-57cbfb852063'\\n\\ncorbin_caroll = '86b68e79-a041-4fe2-95ea-1e8e0c30e382'\\n\\nmike_trout = '7f518632-2d5d-48c8-b994-2d4d43a1ef3b'\\n\\njulio_rodriguez = 'e750ccd5-7a24-44ef-b661-0d41baa17d1c'\\n\\naaron_judge = '86f7390e-61bd-4556-8325-a6705c7f693b'\\n\\nmichael_harris = '94b20984-18d1-49bf-aed9-eac78c0d1416'\\n\\nceddanne_rafaela = '13cfa837-07b4-421a-8ea9-cd9e921adacd'\\n\\nbrandon_nimmo = 'bba23f9e-8aac-454a-b8ca-9373b5d1e5b8'\\n\\nchristian_yelich = '42cb5171-ffa3-4600-9c41-dbc3805206ea'\\n\\nyordan_alvarez = 'fdc9c3af-4ad2-43b1-8537-10732d013ed8' \\n\\nandrew_benintendi = '0e5244cd-9226-4ee1-bb63-d022a9240ca0' \\n\\nlourdes_gurriel = '20e7bd6e-fb56-4e86-ad2d-b50bc5477371'\\n\\nyoshinobu_yamamoto = 'f00b0920-f76d-4733-aa15-1d98779746c0'\\n\\nshohei_ohtani = '80de60c9-74e3-4a50-b128-b3dc7456a254'\\n\\ngerrit_cole = 'eebc991a-23ea-4f1c-ba3b-37ff21ee1603'\\n\\njose_berrios = '56da7cb9-5975-46cd-8c63-96fce1245945'\\n\\naaron_nola = 'ded1b30d-52ca-4eec-bce6-251b15b085ac'\\n\\ngiancarlo_stanton = 'b54ace79-5c94-45d1-873a-7ae90e5c6726'\\n\\nmanny_machado = 'd52d5339-cbdd-43f3-9dfa-a42fd588b9a3'\\n\\neloy_jimenez = '9061eb1e-fa57-46e6-8ea0-a853eae89310'\\n\\nnick_castellanos = '169ed0b1-e34b-4f4b-925b-f3288f24a5e7'\\n\\nmasataka_yoshida = '6de34681-ea14-4946-a3de-26053e746465'\""
            ]
          },
          "execution_count": 6,
          "metadata": {},
          "output_type": "execute_result"
        }
      ],
      "source": [
        "#list of player unique id numbers\n",
        "\n",
        "\"\"\"will_smith = '317b24ac-6a9b-4735-a4c5-64d879cd6bf7'\n",
        "\n",
        "keibert_ruiz = '92defc55-fd9c-4069-b0a1-8cef9326753a'\n",
        "\n",
        "sean_murphy = '312edbf0-0528-4e69-a3cb-1b0c26275965'\n",
        "\n",
        "willson_contreras = '9d93f121-f032-407d-bb30-ad3593641db9'\n",
        "\n",
        "jt_realmuto = 'f2a70df3-0bff-48e3-92ae-970c2a103fcf'\n",
        "\n",
        "bryce_harper = 'f3caeac6-343a-4a01-b5a3-85c5485c57cb'\n",
        "\n",
        "matt_olson = '82a3e6b8-71a8-40c7-b08c-caed8357bbd8'\n",
        "\n",
        "jake_cronenworth = 'a3152805-3787-44a0-a8a9-b3ef604ac40d'\n",
        "\n",
        "kris_bryant = 'e1633ff9-8c46-4698-9bea-3eecd478fa94'\n",
        "\n",
        "freddie_freeman = 'ea1a2111-44cc-4996-babb-9439465e6760'\n",
        "\n",
        "xander_bogaerts = '272abdba-ae99-4137-a6dd-5615f234adfc'\n",
        "\n",
        "jose_altuve = '1616381c-d6ac-40b1-8c3f-c70d51bda098'\n",
        "\n",
        "andres_gimenez = '0d84b0e6-869f-4b15-8eea-0d8444c49906'\n",
        "\n",
        "marcus_semien = 'c2d72221-932c-4155-9121-eaa87cfed176'\n",
        "\n",
        "ozzie_albies = '35c471e8-d43a-46c7-ac59-1cbee21222f6'\n",
        "\n",
        "refael_devers = 'fe966998-15e1-4022-89d5-6b4750516176'\n",
        "\n",
        "austin_riley = '4ee9e14f-2436-4ca4-a9c2-6557d8d86769'\n",
        "\n",
        "kebryan_hayes = 'ec6f52a3-f3e9-40f0-acfe-1dfba879d18a'\n",
        "\n",
        "nolan_arenado = 'aec77ff1-c238-449c-9af6-ed76ff9dd702'\n",
        "\n",
        "jose_ramirez = '17e633e5-e7a5-445c-8206-4770254ea2fd'\n",
        "\n",
        "mookie_betts = '084d2514-9ffb-414e-ae16-3bc690aaad51'\n",
        "\n",
        "wander_franco = '7057e7fa-6d96-451e-9546-2e43d5e116d6'\n",
        "\n",
        "bobby_witt = '0f20f69e-28c9-4fb4-8b1e-cde154780682'\n",
        "\n",
        "trea_turner = '67dc86a1-cc03-41ae-ba7d-e5b8434c83e8'\n",
        "\n",
        "corey_seager = 'ca159e78-05a9-410a-be7b-3ebad5496a88'\n",
        "\n",
        "fernando_tatis = 'bd22364f-1ff4-4ddc-8315-0a4c95cff960'\n",
        "\n",
        "jackson_chourio = '87128c5c-da3c-4fe6-9f04-83d6f8dc1302'\n",
        "\n",
        "ronald_acuna = '860100f5-6b7a-40da-ace9-fc6805ed8744'\n",
        "\n",
        "bryan_reynolds = 'bf611376-2b1d-4d5f-9805-57cbfb852063'\n",
        "\n",
        "corbin_caroll = '86b68e79-a041-4fe2-95ea-1e8e0c30e382'\n",
        "\n",
        "mike_trout = '7f518632-2d5d-48c8-b994-2d4d43a1ef3b'\n",
        "\n",
        "julio_rodriguez = 'e750ccd5-7a24-44ef-b661-0d41baa17d1c'\n",
        "\n",
        "aaron_judge = '86f7390e-61bd-4556-8325-a6705c7f693b'\n",
        "\n",
        "michael_harris = '94b20984-18d1-49bf-aed9-eac78c0d1416'\n",
        "\n",
        "ceddanne_rafaela = '13cfa837-07b4-421a-8ea9-cd9e921adacd'\n",
        "\n",
        "brandon_nimmo = 'bba23f9e-8aac-454a-b8ca-9373b5d1e5b8'\n",
        "\n",
        "christian_yelich = '42cb5171-ffa3-4600-9c41-dbc3805206ea'\n",
        "\n",
        "yordan_alvarez = 'fdc9c3af-4ad2-43b1-8537-10732d013ed8'\n",
        "\n",
        "andrew_benintendi = '0e5244cd-9226-4ee1-bb63-d022a9240ca0'\n",
        "\n",
        "lourdes_gurriel = '20e7bd6e-fb56-4e86-ad2d-b50bc5477371'\n",
        "\n",
        "yoshinobu_yamamoto = 'f00b0920-f76d-4733-aa15-1d98779746c0'\n",
        "\n",
        "shohei_ohtani = '80de60c9-74e3-4a50-b128-b3dc7456a254'\n",
        "\n",
        "gerrit_cole = 'eebc991a-23ea-4f1c-ba3b-37ff21ee1603'\n",
        "\n",
        "jose_berrios = '56da7cb9-5975-46cd-8c63-96fce1245945'\n",
        "\n",
        "aaron_nola = 'ded1b30d-52ca-4eec-bce6-251b15b085ac'\n",
        "\n",
        "giancarlo_stanton = 'b54ace79-5c94-45d1-873a-7ae90e5c6726'\n",
        "\n",
        "manny_machado = 'd52d5339-cbdd-43f3-9dfa-a42fd588b9a3'\n",
        "\n",
        "eloy_jimenez = '9061eb1e-fa57-46e6-8ea0-a853eae89310'\n",
        "\n",
        "nick_castellanos = '169ed0b1-e34b-4f4b-925b-f3288f24a5e7'\n",
        "\n",
        "masataka_yoshida = '6de34681-ea14-4946-a3de-26053e746465'\"\"\""
      ]
    },
    {
      "cell_type": "code",
      "execution_count": 7,
      "metadata": {
        "id": "zNXOMsNVWPO0"
      },
      "outputs": [],
      "source": [
        "\n",
        "# Define the players and their IDs\n",
        "players = {\n",
        "    'will_smith': '317b24ac-6a9b-4735-a4c5-64d879cd6bf7',\n",
        "    'keibert_ruiz': '92defc55-fd9c-4069-b0a1-8cef9326753a',\n",
        "    'sean_murphy': '312edbf0-0528-4e69-a3cb-1b0c26275965',\n",
        "    'willson_contreras': '9d93f121-f032-407d-bb30-ad3593641db9',\n",
        "    'jt_realmuto': 'f2a70df3-0bff-48e3-92ae-970c2a103fcf',\n",
        "    'bryce_harper': 'f3caeac6-343a-4a01-b5a3-85c5485c57cb',\n",
        "    'matt_olson': '82a3e6b8-71a8-40c7-b08c-caed8357bbd8',\n",
        "    'jake_cronenworth': 'a3152805-3787-44a0-a8a9-b3ef604ac40d',\n",
        "    'kris_bryant': 'e1633ff9-8c46-4698-9bea-3eecd478fa94',\n",
        "    'freddie_freeman': 'ea1a2111-44cc-4996-babb-9439465e6760',\n",
        "    'xander_bogaerts': '272abdba-ae99-4137-a6dd-5615f234adfc',\n",
        "    'jose_altuve': '1616381c-d6ac-40b1-8c3f-c70d51bda098',\n",
        "    'andres_gimenez': '0d84b0e6-869f-4b15-8eea-0d8444c49906',\n",
        "    'marcus_semien': 'c2d72221-932c-4155-9121-eaa87cfed176',\n",
        "    'ozzie_albies': '35c471e8-d43a-46c7-ac59-1cbee21222f6',\n",
        "    'refael_devers': 'fe966998-15e1-4022-89d5-6b4750516176',\n",
        "    'austin_riley': '4ee9e14f-2436-4ca4-a9c2-6557d8d86769',\n",
        "    'kebryan_hayes': 'ec6f52a3-f3e9-40f0-acfe-1dfba879d18a',\n",
        "    'nolan_arenado': 'aec77ff1-c238-449c-9af6-ed76ff9dd702',\n",
        "    'jose_ramirez': '17e633e5-e7a5-445c-8206-4770254ea2fd',\n",
        "    'mookie_betts': '084d2514-9ffb-414e-ae16-3bc690aaad51',\n",
        "    'wander_franco': '7057e7fa-6d96-451e-9546-2e43d5e116d6',\n",
        "    'bobby_witt': '0f20f69e-28c9-4fb4-8b1e-cde154780682',\n",
        "    'trea_turner': '67dc86a1-cc03-41ae-ba7d-e5b8434c83e8',\n",
        "    'corey_seager': 'ca159e78-05a9-410a-be7b-3ebad5496a88',\n",
        "    'fernando_tatis': 'bd22364f-1ff4-4ddc-8315-0a4c95cff960',\n",
        "    'jackson_chourio': '87128c5c-da3c-4fe6-9f04-83d6f8dc1302',\n",
        "    'ronald_acuna': '860100f5-6b7a-40da-ace9-fc6805ed8744',\n",
        "    'bryan_reynolds': 'bf611376-2b1d-4d5f-9805-57cbfb852063',\n",
        "    'corbin_caroll': '86b68e79-a041-4fe2-95ea-1e8e0c30e382',\n",
        "    'mike_trout': '7f518632-2d5d-48c8-b994-2d4d43a1ef3b',\n",
        "    'julio_rodriguez': 'e750ccd5-7a24-44ef-b661-0d41baa17d1c',\n",
        "    'aaron_judge': '86f7390e-61bd-4556-8325-a6705c7f693b',\n",
        "    'michael_harris': '94b20984-18d1-49bf-aed9-eac78c0d1416',\n",
        "    'ceddanne_rafaela': '13cfa837-07b4-421a-8ea9-cd9e921adacd',\n",
        "    'brandon_nimmo': 'bba23f9e-8aac-454a-b8ca-9373b5d1e5b8',\n",
        "    'christian_yelich': '42cb5171-ffa3-4600-9c41-dbc3805206ea',\n",
        "    'yordan_alvarez': 'fdc9c3af-4ad2-43b1-8537-10732d013ed8',\n",
        "    'andrew_benintendi': '0e5244cd-9226-4ee1-bb63-d022a9240ca0',\n",
        "    'lourdes_gurriel': '20e7bd6e-fb56-4e86-ad2d-b50bc5477371',\n",
        "    'giancarlo_stanton': 'b54ace79-5c94-45d1-873a-7ae90e5c6726',\n",
        "    'manny_machado': '3bb4a60b-953e-4bef-8b25-c6f07d54eddf',\n",
        "    'eloy_jimenez': '9061eb1e-fa57-46e6-8ea0-a853eae89310',\n",
        "    'nick_castellanos': '169ed0b1-e34b-4f4b-925b-f3288f24a5e7',\n",
        "    'masataka_yoshida': '6de34681-ea14-4946-a3de-26053e746465'\n",
        "}\n",
        "\n"
      ]
    },
    {
      "cell_type": "code",
      "execution_count": 17,
      "metadata": {
        "colab": {
          "base_uri": "https://localhost:8080/"
        },
        "id": "YjoGVF1ILXM_",
        "outputId": "a17e69c8-96a5-490f-f86a-1e431af03604"
      },
      "outputs": [
        {
          "name": "stdout",
          "output_type": "stream",
          "text": [
            "           PlayerName  SeasonYear  TotalAtBats  TotalRBIS  OnBasePercentage  \\\n",
            "0          will_smith        2024           98         21             0.404   \n",
            "1          will_smith        2023          464         76             0.359   \n",
            "2          will_smith        2022          508         87             0.343   \n",
            "3          will_smith        2021          414         76             0.365   \n",
            "4          will_smith        2020          114         25             0.401   \n",
            "..                ...         ...          ...        ...               ...   \n",
            "350  nick_castellanos        2015          549         73             0.303   \n",
            "351  nick_castellanos        2014          533         66             0.306   \n",
            "352  nick_castellanos        2013           18          0             0.278   \n",
            "353  masataka_yoshida        2024           80         11             0.348   \n",
            "354  masataka_yoshida        2023          537         72             0.338   \n",
            "\n",
            "     OPSPercentage BattingAverage  TotalRuns  TotalStolenBases  \n",
            "0            0.924           .367         14                 0  \n",
            "1            0.797           .261         80                 3  \n",
            "2            0.808           .260         68                 1  \n",
            "3            0.860           .258         71                 3  \n",
            "4            0.980           .289         23                 0  \n",
            "..             ...            ...        ...               ...  \n",
            "350          0.722           .255         42                 0  \n",
            "351          0.700           .259         50                 2  \n",
            "352          0.556           .278          1                 0  \n",
            "353          0.736           .275         12                 0  \n",
            "354          0.783           .289         71                 8  \n",
            "\n",
            "[355 rows x 9 columns]\n"
          ]
        }
      ],
      "source": [
        "# Create an empty list to store player data\n",
        "player_data = []\n",
        "\n",
        "# Iterate through each player and their ID\n",
        "for player_name, player_id in players.items():\n",
        "    # Construct the URL for the player's profile\n",
        "    url = f\"https://api.sportradar.com/mlb/trial/v7/en/players/{player_id}/profile.json?api_key=SnItB5oRipaJKXkaqLk9W1Mci3JqJXtcaC9y2y79\"\n",
        "\n",
        "    # To avoid overcrowding the API\n",
        "    time.sleep(2)\n",
        "\n",
        "    # Fetch the data from the API\n",
        "    response = requests.get(url, headers={\"accept\": \"application/json\"})\n",
        "\n",
        "    # Check if the request was successful\n",
        "    if response.status_code == 200:\n",
        "        # Parse the JSON response\n",
        "        data = json.loads(response.text)['player']['seasons']\n",
        "\n",
        "        for season in data:\n",
        "            if season[\"type\"] == \"REG\":  # Ensure it's regular season data\n",
        "                season_year = season['year']\n",
        "                season_totals = season['totals']\n",
        "                if \"statistics\" in season_totals:\n",
        "                    hitting_stats = season_totals[\"statistics\"].get(\"hitting\", {}).get(\"overall\", {})\n",
        "                    # Create a row with individual hitting stats\n",
        "                    row = {\n",
        "                        \"PlayerName\": player_name,\n",
        "                        \"SeasonYear\": season_year,\n",
        "                        \"TotalAtBats\": hitting_stats.get(\"ab\", 0),\n",
        "                        \"TotalRBIS\": hitting_stats.get(\"rbi\", 0),\n",
        "                        \"OnBasePercentage\": hitting_stats.get(\"obp\", 0),\n",
        "                        \"OPSPercentage\": hitting_stats.get(\"ops\", 0),\n",
        "                        \"BattingAverage\": hitting_stats.get(\"avg\", 0),\n",
        "                        \"TotalRuns\": hitting_stats.get(\"runs\", {}).get(\"total\", 0),\n",
        "                        \"TotalStolenBases\": hitting_stats.get(\"steal\", {}).get(\"stolen\", 0)\n",
        "                    }\n",
        "                    player_data.append(row)\n",
        "    else:\n",
        "        print(f\"Failed to retrieve data for player {player_name}. Status code: {response.status_code}\")\n",
        "\n",
        "# Create DataFrame with all player data\n",
        "df = pd.DataFrame(player_data)\n",
        "\n",
        "# Display DataFrame\n",
        "print(df)"
      ]
    },
    {
      "cell_type": "code",
      "execution_count": 18,
      "metadata": {
        "colab": {
          "base_uri": "https://localhost:8080/"
        },
        "id": "cJRQQ8vjM8b5",
        "outputId": "174126b8-7f22-4ca6-cc94-e38ed7ffd051"
      },
      "outputs": [
        {
          "name": "stdout",
          "output_type": "stream",
          "text": [
            "            PlayerName  SeasonYear  TotalAtBats  TotalRBIS  OnBasePercentage  \\\n",
            "300  andrew_benintendi        2019          541         68             0.343   \n",
            "301  andrew_benintendi        2018          579         87             0.366   \n",
            "302  andrew_benintendi        2017          573         90             0.352   \n",
            "303  andrew_benintendi        2016          105         14             0.359   \n",
            "304    lourdes_gurriel        2024          112         22             0.317   \n",
            "305    lourdes_gurriel        2023          551         82             0.309   \n",
            "306    lourdes_gurriel        2022          453         52             0.343   \n",
            "307    lourdes_gurriel        2021          500         84             0.319   \n",
            "308    lourdes_gurriel        2020          208         33             0.348   \n",
            "309    lourdes_gurriel        2019          314         50             0.327   \n",
            "310    lourdes_gurriel        2018          249         35             0.309   \n",
            "311  giancarlo_stanton        2024           93         16             0.290   \n",
            "312  giancarlo_stanton        2023          371         60             0.275   \n",
            "313  giancarlo_stanton        2022          398         78             0.297   \n",
            "314  giancarlo_stanton        2021          510         97             0.354   \n",
            "315  giancarlo_stanton        2020           76         11             0.387   \n",
            "316  giancarlo_stanton        2019           59         13             0.403   \n",
            "317  giancarlo_stanton        2018          617        100             0.343   \n",
            "318  giancarlo_stanton        2017          597        132             0.376   \n",
            "319  giancarlo_stanton        2016          413         74             0.326   \n",
            "320  giancarlo_stanton        2015          279         67             0.346   \n",
            "321  giancarlo_stanton        2014          539        105             0.395   \n",
            "322  giancarlo_stanton        2013          425         62             0.365   \n",
            "323      manny_machado        2024          107         12             0.310   \n",
            "324      manny_machado        2023          543         91             0.319   \n",
            "325      manny_machado        2022          578        102             0.366   \n",
            "326      manny_machado        2021          564        106             0.347   \n",
            "327      manny_machado        2020          224         47             0.370   \n",
            "328      manny_machado        2019          587         85             0.334   \n",
            "329      manny_machado        2018          632        107             0.367   \n",
            "330      manny_machado        2017          630         95             0.310   \n",
            "331      manny_machado        2016          640         96             0.343   \n",
            "332      manny_machado        2015          633         86             0.359   \n",
            "333      manny_machado        2014          327         32             0.324   \n",
            "334      manny_machado        2013          667         71             0.314   \n",
            "335       eloy_jimenez        2024           58          8             0.328   \n",
            "336       eloy_jimenez        2023          456         64             0.317   \n",
            "337       eloy_jimenez        2022          292         54             0.358   \n",
            "338       eloy_jimenez        2021          213         37             0.303   \n",
            "339       eloy_jimenez        2020          213         41             0.332   \n",
            "340       eloy_jimenez        2019          468         79             0.315   \n",
            "341   nick_castellanos        2024          106          8             0.250   \n",
            "342   nick_castellanos        2023          626        106             0.311   \n",
            "343   nick_castellanos        2022          524         62             0.305   \n",
            "344   nick_castellanos        2021          531        100             0.362   \n",
            "345   nick_castellanos        2020          218         34             0.298   \n",
            "346   nick_castellanos        2019          615         73             0.337   \n",
            "347   nick_castellanos        2018          620         89             0.354   \n",
            "348   nick_castellanos        2017          614        101             0.320   \n",
            "349   nick_castellanos        2016          411         58             0.331   \n",
            "\n",
            "     OPSPercentage BattingAverage  TotalRuns  TotalStolenBases  \n",
            "300          0.774           .266         72                10  \n",
            "301          0.831           .290        103                21  \n",
            "302          0.776           .271         84                20  \n",
            "303          0.835           .295         16                 1  \n",
            "304          0.763           .268         18                 2  \n",
            "305          0.772           .261         65                 5  \n",
            "306          0.743           .291         52                 3  \n",
            "307          0.785           .276         62                 1  \n",
            "308          0.882           .308         28                 3  \n",
            "309          0.868           .277         52                 6  \n",
            "310          0.755           .281         30                 1  \n",
            "311          0.774           .237         15                 0  \n",
            "312          0.695           .191         43                 0  \n",
            "313          0.759           .211         53                 0  \n",
            "314          0.870           .273         64                 0  \n",
            "315          0.887           .250         12                 1  \n",
            "316          0.895           .288          8                 0  \n",
            "317          0.852           .266        102                 5  \n",
            "318          1.007           .281        123                 2  \n",
            "319          0.815           .240         56                 0  \n",
            "320          0.952           .265         47                 4  \n",
            "321          0.950           .288         89                13  \n",
            "322          0.845           .249         62                 1  \n",
            "323          0.703           .252         15                 0  \n",
            "324          0.781           .258         75                 3  \n",
            "325          0.897           .298        100                 9  \n",
            "326          0.836           .278         92                12  \n",
            "327          0.950           .304         44                 6  \n",
            "328          0.796           .256         81                 5  \n",
            "329          0.905           .297         84                14  \n",
            "330          0.781           .259         81                 9  \n",
            "331          0.876           .294        105                 0  \n",
            "332          0.861           .286        102                20  \n",
            "333          0.755           .278         38                 2  \n",
            "334          0.746           .283         88                 6  \n",
            "335          0.759           .259          8                 1  \n",
            "336          0.758           .272         50                 0  \n",
            "337          0.858           .295         40                 0  \n",
            "338          0.740           .249         23                 0  \n",
            "339          0.891           .296         26                 0  \n",
            "340          0.828           .267         69                 0  \n",
            "341          0.476           .179          9                 0  \n",
            "342          0.787           .272         79                11  \n",
            "343          0.694           .263         56                 7  \n",
            "344          0.938           .309         95                 3  \n",
            "345          0.784           .225         37                 0  \n",
            "346          0.862           .289        100                 2  \n",
            "347          0.854           .298         88                 2  \n",
            "348          0.810           .272         73                 4  \n",
            "349          0.827           .285         54                 1  \n"
          ]
        }
      ],
      "source": [
        "print(df[300:350])"
      ]
    },
    {
      "cell_type": "code",
      "execution_count": 19,
      "metadata": {
        "id": "miBiXmDaaa6C"
      },
      "outputs": [],
      "source": [
        "# save df to a csv file\n",
        "df.to_csv('player_stats.csv', index=False)"
      ]
    },
    {
      "cell_type": "code",
      "execution_count": 20,
      "metadata": {
        "id": "w5puPg4Tag4U"
      },
      "outputs": [],
      "source": [
        "def create_db_engine(user, password, host, port, database):\n",
        "    return create_engine(f'mysql+mysqldb://{user}:{password}@{host}:{port}/{database}')"
      ]
    },
    {
      "cell_type": "code",
      "execution_count": 21,
      "metadata": {
        "id": "HDBGKRHUa2Gd"
      },
      "outputs": [],
      "source": [
        "#load CSV into DataFrame\n",
        "def load_csv(file_path):\n",
        "    return pd.read_csv(file_path)"
      ]
    },
    {
      "cell_type": "code",
      "execution_count": 22,
      "metadata": {
        "id": "1eSabl1ra65Q"
      },
      "outputs": [],
      "source": [
        "# Function to upload DataFrame to MySQL\n",
        "def upload_to_mysql(df, engine, table_name):\n",
        "    df.to_sql(name=table_name, con=engine, if_exists='append', index=False, chunksize=500)"
      ]
    },
    {
      "cell_type": "code",
      "execution_count": 23,
      "metadata": {
        "colab": {
          "base_uri": "https://localhost:8080/"
        },
        "id": "QDCVHua-a_gK",
        "outputId": "1aa9f500-283e-4f56-f240-07ca605ea83b"
      },
      "outputs": [
        {
          "name": "stdout",
          "output_type": "stream",
          "text": [
            "CSV data has been uploaded successfully to MySQL!\n"
          ]
        }
      ],
      "source": [
        "# Main script execution\n",
        "if __name__ == \"__main__\":\n",
        "    # Database credentials and connection details\n",
        "    USER = 'admin'\n",
        "    PASSWORD = 'isba_4798'\n",
        "    HOST = 'isba-dev-01.c7eifmhfznoo.us-east-1.rds.amazonaws.com'\n",
        "    PORT = '3306'\n",
        "    DATABASE = 'sql_project'\n",
        "    TABLE_NAME = 'player_stats'\n",
        "\n",
        "    # Path to the CSV file\n",
        "    CSV_FILE_PATH = '/content/player_stats.csv'\n",
        "\n",
        "    # Create a database engine\n",
        "    engine = create_db_engine(USER, PASSWORD, HOST, PORT, DATABASE)\n",
        "\n",
        "    # Load data from CSV\n",
        "    dataframe = load_csv(CSV_FILE_PATH)\n",
        "\n",
        "    # Upload data to MySQL\n",
        "    upload_to_mysql(dataframe, engine, TABLE_NAME)\n",
        "    print(\"CSV data has been uploaded successfully to MySQL!\")"
      ]
    }
  ],
  "metadata": {
    "colab": {
      "provenance": []
    },
    "kernelspec": {
      "display_name": "Python 3",
      "name": "python3"
    },
    "language_info": {
      "name": "python"
    }
  },
  "nbformat": 4,
  "nbformat_minor": 0
}
